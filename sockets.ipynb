{
 "cells": [
  {
   "cell_type": "markdown",
   "id": "cbfb659a-8985-4b8d-8f34-f29b631dfa5f",
   "metadata": {},
   "source": [
    "# Socket Programming"
   ]
  },
  {
   "cell_type": "code",
   "execution_count": 1,
   "id": "a1cf1c2e-2958-4618-b8b4-ebd5b7d4143c",
   "metadata": {},
   "outputs": [],
   "source": [
    "import socket"
   ]
  },
  {
   "cell_type": "markdown",
   "id": "9d87a75f-5f51-4aa7-af96-c72d7b0510d7",
   "metadata": {},
   "source": [
    "## Basic socket API"
   ]
  },
  {
   "cell_type": "markdown",
   "id": "52eadec7-2ff5-46e4-b994-fccc2d62dbdc",
   "metadata": {},
   "source": [
    "The most used methods"
   ]
  },
  {
   "cell_type": "code",
   "execution_count": 7,
   "id": "5784f227-030a-4184-acde-1da1cc02a5e3",
   "metadata": {},
   "outputs": [
    {
     "data": {
      "text/plain": [
       "\u001b[0;31mInit signature:\u001b[0m \u001b[0msocket\u001b[0m\u001b[0;34m.\u001b[0m\u001b[0msocket\u001b[0m\u001b[0;34m(\u001b[0m\u001b[0mfamily\u001b[0m\u001b[0;34m=\u001b[0m\u001b[0;34m-\u001b[0m\u001b[0;36m1\u001b[0m\u001b[0;34m,\u001b[0m \u001b[0mtype\u001b[0m\u001b[0;34m=\u001b[0m\u001b[0;34m-\u001b[0m\u001b[0;36m1\u001b[0m\u001b[0;34m,\u001b[0m \u001b[0mproto\u001b[0m\u001b[0;34m=\u001b[0m\u001b[0;34m-\u001b[0m\u001b[0;36m1\u001b[0m\u001b[0;34m,\u001b[0m \u001b[0mfileno\u001b[0m\u001b[0;34m=\u001b[0m\u001b[0;32mNone\u001b[0m\u001b[0;34m)\u001b[0m\u001b[0;34m\u001b[0m\u001b[0;34m\u001b[0m\u001b[0m\n",
       "\u001b[0;31mDocstring:\u001b[0m      A subclass of _socket.socket adding the makefile() method.\n",
       "\u001b[0;31mFile:\u001b[0m           /Library/Developer/CommandLineTools/Library/Frameworks/Python3.framework/Versions/3.8/lib/python3.8/socket.py\n",
       "\u001b[0;31mType:\u001b[0m           type\n",
       "\u001b[0;31mSubclasses:\u001b[0m     SSLSocket\n"
      ]
     },
     "metadata": {},
     "output_type": "display_data"
    }
   ],
   "source": [
    "# create a new socket using the given address family, \n",
    "# socket type and protocol number\n",
    "socket.socket?"
   ]
  },
  {
   "cell_type": "code",
   "execution_count": 9,
   "id": "5c43f710-18c9-45ec-a1b8-7e4e6ea0317a",
   "metadata": {},
   "outputs": [],
   "source": [
    "s = socket.socket()"
   ]
  },
  {
   "cell_type": "markdown",
   "id": "2cd3728d-960c-448a-90fa-fb9230019001",
   "metadata": {},
   "source": [
    "Address Family Constants - a type of addresses that your socket can communicate with:  \n",
    "`socket.AF_UNIX` - Unix sockets  \n",
    "`socket.AF_INET` - IPv4  \n",
    "`socket.AF_INET6` - IPv6  \n",
    "When you create a socket, you have to specify its address family, and then you can only use addresses of that type with the socket."
   ]
  },
  {
   "cell_type": "markdown",
   "id": "d261d48e-50fd-4132-b773-d1673e173158",
   "metadata": {},
   "source": [
    "Socket Type Constants  \n",
    "`SOCK_STREAM` - used for TCP  \n",
    "`SOCK_DGRAM` - used for UDP  "
   ]
  },
  {
   "cell_type": "code",
   "execution_count": 10,
   "id": "81a9f20d-9a2a-416c-9141-9cdc70f897af",
   "metadata": {},
   "outputs": [
    {
     "data": {
      "text/plain": [
       "\u001b[0;31mDocstring:\u001b[0m\n",
       "bind(address)\n",
       "\n",
       "Bind the socket to a local address.  For IP sockets, the address is a\n",
       "pair (host, port); the host must refer to the local host. For raw packet\n",
       "sockets the address is a tuple (ifname, proto [,pkttype [,hatype [,addr]]])\n",
       "\u001b[0;31mType:\u001b[0m      builtin_function_or_method\n"
      ]
     },
     "metadata": {},
     "output_type": "display_data"
    }
   ],
   "source": [
    "s.bind?"
   ]
  },
  {
   "cell_type": "code",
   "execution_count": 11,
   "id": "a404fa70-da37-417c-ac3f-6c9d5f7a5bb7",
   "metadata": {},
   "outputs": [
    {
     "data": {
      "text/plain": [
       "\u001b[0;31mDocstring:\u001b[0m\n",
       "listen([backlog])\n",
       "\n",
       "Enable a server to accept connections.  If backlog is specified, it must be\n",
       "at least 0 (if it is lower, it is set to 0); it specifies the number of\n",
       "unaccepted connections that the system will allow before refusing new\n",
       "connections. If not specified, a default reasonable value is chosen.\n",
       "\u001b[0;31mType:\u001b[0m      builtin_function_or_method\n"
      ]
     },
     "metadata": {},
     "output_type": "display_data"
    }
   ],
   "source": [
    "s.listen?"
   ]
  },
  {
   "cell_type": "code",
   "execution_count": 12,
   "id": "0fae783f-13e2-41d6-a762-9907364ad938",
   "metadata": {},
   "outputs": [
    {
     "data": {
      "text/plain": [
       "\u001b[0;31mSignature:\u001b[0m \u001b[0ms\u001b[0m\u001b[0;34m.\u001b[0m\u001b[0maccept\u001b[0m\u001b[0;34m(\u001b[0m\u001b[0;34m)\u001b[0m\u001b[0;34m\u001b[0m\u001b[0;34m\u001b[0m\u001b[0m\n",
       "\u001b[0;31mDocstring:\u001b[0m\n",
       "accept() -> (socket object, address info)\n",
       "\n",
       "Wait for an incoming connection.  Return a new socket\n",
       "representing the connection, and the address of the client.\n",
       "For IP sockets, the address info is a pair (hostaddr, port).\n",
       "\u001b[0;31mFile:\u001b[0m      /Library/Developer/CommandLineTools/Library/Frameworks/Python3.framework/Versions/3.8/lib/python3.8/socket.py\n",
       "\u001b[0;31mType:\u001b[0m      method\n"
      ]
     },
     "metadata": {},
     "output_type": "display_data"
    }
   ],
   "source": [
    "s.accept?"
   ]
  },
  {
   "cell_type": "code",
   "execution_count": 13,
   "id": "bfe1a4c4-df4c-4ca5-b234-4363c7ba1b29",
   "metadata": {},
   "outputs": [
    {
     "data": {
      "text/plain": [
       "\u001b[0;31mDocstring:\u001b[0m\n",
       "connect(address)\n",
       "\n",
       "Connect the socket to a remote address.  For IP sockets, the address\n",
       "is a pair (host, port).\n",
       "\u001b[0;31mType:\u001b[0m      builtin_function_or_method\n"
      ]
     },
     "metadata": {},
     "output_type": "display_data"
    }
   ],
   "source": [
    "s.connect?"
   ]
  },
  {
   "cell_type": "code",
   "execution_count": 14,
   "id": "42420505-9e9b-44e7-95d6-0f27626f22b2",
   "metadata": {},
   "outputs": [
    {
     "data": {
      "text/plain": [
       "\u001b[0;31mDocstring:\u001b[0m\n",
       "connect_ex(address) -> errno\n",
       "\n",
       "This is like connect(address), but returns an error code (the errno value)\n",
       "instead of raising an exception when an error occurs.\n",
       "\u001b[0;31mType:\u001b[0m      builtin_function_or_method\n"
      ]
     },
     "metadata": {},
     "output_type": "display_data"
    }
   ],
   "source": [
    "s.connect_ex?"
   ]
  },
  {
   "cell_type": "code",
   "execution_count": 15,
   "id": "eaabb606-3517-47cc-bdee-51a7fe00d7dd",
   "metadata": {},
   "outputs": [
    {
     "data": {
      "text/plain": [
       "\u001b[0;31mDocstring:\u001b[0m\n",
       "send(data[, flags]) -> count\n",
       "\n",
       "Send a data string to the socket.  For the optional flags\n",
       "argument, see the Unix manual.  Return the number of bytes\n",
       "sent; this may be less than len(data) if the network is busy.\n",
       "\u001b[0;31mType:\u001b[0m      builtin_function_or_method\n"
      ]
     },
     "metadata": {},
     "output_type": "display_data"
    }
   ],
   "source": [
    "s.send?"
   ]
  },
  {
   "cell_type": "code",
   "execution_count": 16,
   "id": "4ac66cb5-7e0c-4b1c-ab93-fc6d956079d7",
   "metadata": {},
   "outputs": [
    {
     "data": {
      "text/plain": [
       "\u001b[0;31mDocstring:\u001b[0m\n",
       "recv(buffersize[, flags]) -> data\n",
       "\n",
       "Receive up to buffersize bytes from the socket.  For the optional flags\n",
       "argument, see the Unix manual.  When no data is available, block until\n",
       "at least one byte is available or until the remote end is closed.  When\n",
       "the remote end is closed and all data is read, return the empty string.\n",
       "\u001b[0;31mType:\u001b[0m      builtin_function_or_method\n"
      ]
     },
     "metadata": {},
     "output_type": "display_data"
    }
   ],
   "source": [
    "s.recv?"
   ]
  },
  {
   "cell_type": "code",
   "execution_count": 17,
   "id": "75e34266-5949-47c7-92c1-7c90d6488d49",
   "metadata": {},
   "outputs": [
    {
     "data": {
      "text/plain": [
       "\u001b[0;31mSignature:\u001b[0m \u001b[0ms\u001b[0m\u001b[0;34m.\u001b[0m\u001b[0mclose\u001b[0m\u001b[0;34m(\u001b[0m\u001b[0;34m)\u001b[0m\u001b[0;34m\u001b[0m\u001b[0;34m\u001b[0m\u001b[0m\n",
       "\u001b[0;31mDocstring:\u001b[0m\n",
       "close()\n",
       "\n",
       "Close the socket.  It cannot be used after this call.\n",
       "\u001b[0;31mFile:\u001b[0m      /Library/Developer/CommandLineTools/Library/Frameworks/Python3.framework/Versions/3.8/lib/python3.8/socket.py\n",
       "\u001b[0;31mType:\u001b[0m      method\n"
      ]
     },
     "metadata": {},
     "output_type": "display_data"
    }
   ],
   "source": [
    "s.close?"
   ]
  },
  {
   "cell_type": "markdown",
   "id": "d14b16e2-8193-4b2f-833f-d12183a6a52e",
   "metadata": {},
   "source": [
    "### The sequence of socket API calls and data flow for TCP"
   ]
  },
  {
   "cell_type": "code",
   "execution_count": 30,
   "id": "36db65f4-9544-4764-a493-651e39fd5093",
   "metadata": {},
   "outputs": [
    {
     "data": {
      "image/png": "[encoded data removed]",
      "text/plain": [
       "<IPython.core.display.Image object>"
      ]
     },
     "execution_count": 30,
     "metadata": {},
     "output_type": "execute_result"
    }
   ],
   "source": [
    "from IPython.display import Image\n",
    "Image(\"sockets-tcp-flow.png\")"
   ]
  },
  {
   "cell_type": "markdown",
   "id": "4f30b353-9f89-4624-82dd-0c0b2ec36775",
   "metadata": {},
   "source": [
    "## Echo Server"
   ]
  },
  {
   "cell_type": "code",
   "execution_count": 31,
   "id": "02166846-9979-4f76-a66d-c08889ee817a",
   "metadata": {},
   "outputs": [],
   "source": [
    "HOST = \"127.0.0.1\" # Standard loopback interface address (localhost)\n",
    "PORT = 65432 # # Port to listen on (non-privileged ports are > 1023)"
   ]
  },
  {
   "cell_type": "code",
   "execution_count": null,
   "id": "776d6229-e683-4e1b-b4c2-ebc2d00e34ea",
   "metadata": {},
   "outputs": [],
   "source": [
    "with socket.socket(socket.AF_INET, socket.SOCK_STREAM) as s:\n",
    "# associate the socket with specific network interface and port number\n",
    "    s.bind((HOST, PORT))\n",
    "    s.listen()\n",
    "    conn, addr = s.accept() # CREATES A NEW SOCKET\n",
    "    with conn:\n",
    "        print(f'Connected by {addr}')\n",
    "        while True:\n",
    "            data = conn.recv(1024)\n",
    "            if not data:\n",
    "                break\n",
    "            conn.sendall(data)"
   ]
  },
  {
   "cell_type": "markdown",
   "id": "a0fc0be9-eda0-462d-b7ce-65a72936371f",
   "metadata": {},
   "source": [
    "The .accept() method blocks execution and waits for an incoming connection. When a client connects, it returns a new socket object representing the connection and a tuple holding the address of the client. The tuple will contain (host, port) for IPv4 connections or (host, port, flowinfo, scopeid) for IPv6. "
   ]
  },
  {
   "cell_type": "markdown",
   "id": "28bcd771-f654-4b7a-86d7-293ffc6cf545",
   "metadata": {},
   "source": [
    "`socket.accept()`\n",
    "1. The socket must be bound to and address and listening for connections.  \n",
    "2. `socket.accept()` returns `(conn, address)` where `conn` is a **new socket object** usable to send and receive data on the connection. It's distinct from the listening socket that the server is using to accept new connections."
   ]
  },
  {
   "cell_type": "markdown",
   "id": "3db28e4e-0081-4611-ba44-2349c328d0a1",
   "metadata": {},
   "source": [
    "### Blocking calls"
   ]
  },
  {
   "cell_type": "markdown",
   "id": "63995da0-6012-49df-8bc8-9ed5fc505405",
   "metadata": {},
   "source": [
    "In a socket module, methods:  \n",
    "    * `.accept()`  \n",
    "    * `.connect()`  \n",
    "    * `.send()`  \n",
    "    * `.recv()`  \n",
    "block, meaning they don't return immediately.\n",
    "Blocking calls have to wait on system calls (I/O) to complete before they can return a value.\n",
    "Blocking socket calls can be set to non-blocking mode so they return immediately."
   ]
  },
  {
   "cell_type": "markdown",
   "id": "85ecc8e6-a544-4858-a9ab-f3760983066c",
   "metadata": {},
   "source": [
    "If `conn.recv()` returns an empty `bytes` object, b'', \n",
    "that signals that the client closed the connection and the loop is terminated."
   ]
  },
  {
   "cell_type": "markdown",
   "id": "5bb49902-a60c-4dfb-82eb-9ce1e95babb4",
   "metadata": {},
   "source": [
    "## Echo Client"
   ]
  },
  {
   "cell_type": "code",
   "execution_count": null,
   "id": "b8ddf74e-a365-4539-8f44-91465f0982ff",
   "metadata": {},
   "outputs": [],
   "source": [
    "HOST = \"127.0.0.1\"  # The server's hostname or IP address\n",
    "PORT = 65432  # The port used by the server"
   ]
  },
  {
   "cell_type": "code",
   "execution_count": null,
   "id": "f69bb5d4-f58c-43f6-82e0-cf8e22bded37",
   "metadata": {},
   "outputs": [],
   "source": [
    "with socket.socket(socket.AF_INET, socket.SOCK_STREAM) as s:\n",
    "    s.connect((HOST, PORT)) # connect to server\n",
    "    s.sendall(b\"Hello world\") # send message\n",
    "    data = s.recv(1024) # read the server's reply\n",
    "    \n",
    "print(f'Received {data!r}')"
   ]
  },
  {
   "cell_type": "markdown",
   "id": "de0059e4-ab38-4a68-94bc-503310e796b2",
   "metadata": {},
   "source": [
    "### Check state of the socket"
   ]
  },
  {
   "cell_type": "raw",
   "id": "8cff70eb-5a84-4d60-9b2b-ab7a01a0723b",
   "metadata": {},
   "source": [
    "# netstat\n",
    "netstat -an | grep 65432"
   ]
  },
  {
   "cell_type": "raw",
   "id": "a131973b-8116-4521-8a4d-0f10c7a211d7",
   "metadata": {},
   "source": [
    "Proto Recv-Q Send-Q  Local Address       Foreign Address (state)\n",
    "tcp4       0      0  127.0.0.1.65432     *.*             LISTEN"
   ]
  },
  {
   "cell_type": "raw",
   "id": "a57b48ed-68e7-46e1-9de1-c5b37bb06c6a",
   "metadata": {},
   "source": [
    "# lsof\n",
    "lsof -i -n"
   ]
  },
  {
   "cell_type": "raw",
   "id": "bde587bf-7aeb-40c2-a1e0-0cbd4f8ba9dc",
   "metadata": {},
   "source": [
    "COMMAND     PID   USER   FD   TYPE   DEVICE SIZE/OFF      NODE  NAME\n",
    "Python     8776 marcin   3u   IPv4 0x3a28f5f604a00157      0t0  TCP 127.0.0.1:65432 (LISTEN)"
   ]
  },
  {
   "cell_type": "code",
   "execution_count": null,
   "id": "11a45a82-eeb7-4b0b-b021-e96fa71f394c",
   "metadata": {},
   "outputs": [],
   "source": []
  }
 ],
 "metadata": {
  "kernelspec": {
   "display_name": "Python 3 (ipykernel)",
   "language": "python",
   "name": "python3"
  },
  "language_info": {
   "codemirror_mode": {
    "name": "ipython",
    "version": 3
   },
   "file_extension": ".py",
   "mimetype": "text/x-python",
   "name": "python",
   "nbconvert_exporter": "python",
   "pygments_lexer": "ipython3",
   "version": "3.8.9"
  }
 },
 "nbformat": 4,
 "nbformat_minor": 5
}
