{
 "cells": [
  {
   "cell_type": "markdown",
   "id": "f564eb5f-4962-46ac-9a81-f586a6cbab1f",
   "metadata": {},
   "source": [
    "## Connections"
   ]
  },
  {
   "cell_type": "markdown",
   "id": "adfdb950-3019-492f-bf51-7b04cb46832f",
   "metadata": {},
   "source": [
    "Each endpoint of a network connection is always represented by a **host** and **port #**"
   ]
  },
  {
   "cell_type": "markdown",
   "id": "3416f6ea-e5d7-4323-9c58-389ebd442ae2",
   "metadata": {},
   "source": [
    "In Python you write it out as a tuple (host, port)  \n",
    "* (\"www.python.org\", 80)  \n",
    "* (\"205.172.13.4\", 443)  \n",
    "\n",
    "In almost all of the network programs you'll write, you use this convention to specify a network address"
   ]
  },
  {
   "cell_type": "markdown",
   "id": "f2c4a059-a51d-4441-ad5a-81f2b886c8f4",
   "metadata": {},
   "source": [
    "## Client/Server Concept"
   ]
  },
  {
   "cell_type": "markdown",
   "id": "d6ab854c-e872-4528-ae5e-7688bbb0a0d6",
   "metadata": {},
   "source": [
    "Each endpoint is a running program"
   ]
  },
  {
   "cell_type": "markdown",
   "id": "4e764162-8e47-40d3-95ab-4c6c5172e610",
   "metadata": {},
   "source": [
    "Servers wait for incoming connections and provide a service (e.g. web, mail etc.)"
   ]
  },
  {
   "cell_type": "markdown",
   "id": "9ef5b6bf-71a9-499b-ad53-47f4d237b63e",
   "metadata": {},
   "source": [
    "Clients make connections to servers"
   ]
  },
  {
   "cell_type": "markdown",
   "id": "399ac296-4d06-4385-a61c-97089baa89f8",
   "metadata": {},
   "source": [
    "## Request/Response Cycle"
   ]
  },
  {
   "cell_type": "markdown",
   "id": "b1d7f1c7-5edf-4b07-9afc-36b8a8a0ef5c",
   "metadata": {},
   "source": [
    "Most network programs use a requests/response model based on messages"
   ]
  },
  {
   "cell_type": "markdown",
   "id": "376f6c63-5d59-4fc9-b3fa-7ffc0cc35c30",
   "metadata": {},
   "source": [
    "Client sends a request message (e.g HTTP)\n",
    "```bash\n",
    "GET /index.html HTTP/1.0\n",
    "```"
   ]
  },
  {
   "cell_type": "markdown",
   "id": "f1d842f3-3715-49e2-b403-e70da9c087f3",
   "metadata": {},
   "source": [
    "Server sends back a response message\n",
    "```bash\n",
    "HTTP/1.0 200 OK\n",
    "Content-type: text/html\n",
    "Content-length: 48824\n",
    "\n",
    "<HTML>\n",
    "...\n",
    "```"
   ]
  },
  {
   "cell_type": "markdown",
   "id": "98637373-63ad-40b8-a934-4bf90a810a41",
   "metadata": {},
   "source": [
    "## Data Transport"
   ]
  },
  {
   "cell_type": "markdown",
   "id": "09f40d82-feb4-4f15-ba55-53adf949b55f",
   "metadata": {},
   "source": [
    "There are two basic types of communication"
   ]
  },
  {
   "cell_type": "markdown",
   "id": "182e4877-7d72-4395-8652-41c38823575d",
   "metadata": {},
   "source": [
    "**Streams (TCP)**: Computeres establish a connection with each other and\n",
    "read/write data in a continuous stream of bytes - like a file. This is the most common."
   ]
  },
  {
   "cell_type": "markdown",
   "id": "75193bc5-e242-4f27-b900-5256a7bc17f2",
   "metadata": {},
   "source": [
    "**Datagrams (UDP)**:Computers send discrete packets (or messages) to each other.\n",
    "Each packet contains a collection of bytes, but each packet is separate and self-contained."
   ]
  },
  {
   "cell_type": "markdown",
   "id": "09921752-145b-4746-aaca-a48810ed9588",
   "metadata": {},
   "source": [
    "## Sockets"
   ]
  },
  {
   "cell_type": "markdown",
   "id": "2646adbf-2b50-43a3-a71d-f3ce1c033542",
   "metadata": {},
   "source": [
    "* Programming abstraction for network code\n",
    "* Socket: A communication endpoint\n",
    "* Allows connections to be made and data to be transmitted in either direction"
   ]
  },
  {
   "cell_type": "markdown",
   "id": "34979e31-030c-4c49-9788-da9878a7d5ca",
   "metadata": {},
   "source": [
    "## Socket basics"
   ]
  },
  {
   "cell_type": "code",
   "execution_count": 1,
   "id": "082cca3a-1a45-4c8e-bc31-5729ab866033",
   "metadata": {},
   "outputs": [],
   "source": [
    "import socket"
   ]
  },
  {
   "cell_type": "raw",
   "id": "94272eee-a500-48d2-bb8f-22818fe0f844",
   "metadata": {},
   "source": [
    "# Create a socket\n",
    "s = socket.socket(addr_family, type)"
   ]
  },
  {
   "cell_type": "code",
   "execution_count": 2,
   "id": "e239560e-ceeb-47a0-8357-250e4eea9af9",
   "metadata": {},
   "outputs": [
    {
     "data": {
      "text/plain": [
       "<AddressFamily.AF_INET6: 30>"
      ]
     },
     "execution_count": 2,
     "metadata": {},
     "output_type": "execute_result"
    }
   ],
   "source": [
    "# Address families\n",
    "socket.AF_INET  # Internet Protocol (IPv4)\n",
    "socket.AF_INET6 # Internet Protocol (IPv6)"
   ]
  },
  {
   "cell_type": "code",
   "execution_count": 3,
   "id": "75d4508a-627a-4477-89ec-01a70548d4f3",
   "metadata": {},
   "outputs": [
    {
     "data": {
      "text/plain": [
       "<SocketKind.SOCK_DGRAM: 2>"
      ]
     },
     "execution_count": 3,
     "metadata": {},
     "output_type": "execute_result"
    }
   ],
   "source": [
    "# Socket types\n",
    "socket.SOCK_STREAM # Connection based stream (TCP)\\\n",
    "socket.SOCK_DGRAM  # Datagrams (UDP)"
   ]
  },
  {
   "cell_type": "code",
   "execution_count": 4,
   "id": "878a7091-2f17-4085-8076-c02d02b9faa8",
   "metadata": {},
   "outputs": [],
   "source": [
    "# Almost all code will use something like\n",
    "from socket import *\n",
    "s = socket(AF_INET, SOCK_STREAM)"
   ]
  },
  {
   "cell_type": "markdown",
   "id": "d189d085-f559-40e3-a1c9-e476aab82a3f",
   "metadata": {},
   "source": [
    "## Using a Socket"
   ]
  },
  {
   "cell_type": "markdown",
   "id": "fbea67c7-0732-4773-a700-9e812546f9d2",
   "metadata": {},
   "source": [
    "* Server - listen for incoming  connections\n",
    "* Client - make an outgoing connection"
   ]
  },
  {
   "cell_type": "markdown",
   "id": "34d3e5d5-28b9-49e9-ae61-956423079f2f",
   "metadata": {
    "tags": []
   },
   "source": [
    "## TCP Client"
   ]
  },
  {
   "cell_type": "code",
   "execution_count": 5,
   "id": "c68dab96-337f-4e53-9307-071fe24585dd",
   "metadata": {},
   "outputs": [],
   "source": [
    "from socket import *\n",
    "s = socket(AF_INET, SOCK_STREAM)\n",
    "s.connect((\"www.python.org\", 80))\n",
    "s.send(b\"GET /index.html HTTP/1.0\\n\\n\")\n",
    "data = s.recv(10000)\n",
    "s.close()"
   ]
  },
  {
   "cell_type": "markdown",
   "id": "f93de54f-4f06-4bad-b67e-204b84d2eee0",
   "metadata": {},
   "source": [
    "## TCP Server"
   ]
  },
  {
   "cell_type": "markdown",
   "id": "e81ad6ab-dc5b-408e-b23e-60f03966c1fe",
   "metadata": {},
   "source": [
    "* Must listen for incoming connections on a well-known port\n",
    "* typically run forever in a server-loop\n",
    "* may have to service multiple client"
   ]
  },
  {
   "cell_type": "code",
   "execution_count": null,
   "id": "7a64f45b-cf31-4354-a3eb-3f2f54ab31b4",
   "metadata": {},
   "outputs": [],
   "source": [
    "from socket import *\n",
    "s = socket(AF_INET, SOCK_STREAM)\n",
    "# bind socket to a specific address\n",
    "s.bind((\"\", 9000)) # binds to localhost\n",
    "s.listen(5)\n",
    "while True:\n",
    "    conn, addr = s.accept()\n",
    "    print(f'Recevied connection from {addr}')\n",
    "    msg = f'Hello {addr}'\n",
    "    conn.send(msg.encode())\n",
    "    conn.close()"
   ]
  },
  {
   "cell_type": "raw",
   "id": "594ec607-086e-44f1-9022-6d58e972a413",
   "metadata": {},
   "source": [
    "nc localhost 9000"
   ]
  },
  {
   "cell_type": "markdown",
   "id": "57fe603d-5fa5-40b1-8ece-6bfa2158c2f8",
   "metadata": {},
   "source": [
    "If system has multiple IP addresses, can bind to a specific address, e.g.  \n",
    "```python\n",
    "s.bind((\"104.21.4.2\",9000))\n",
    "```"
   ]
  },
  {
   "cell_type": "markdown",
   "id": "441066c1-c4a2-4299-b933-773372b8e487",
   "metadata": {},
   "source": [
    "Tell operating system to start listening for connections on the socket\n",
    "```python\n",
    "s.listen(5)\n",
    "```\n",
    "* s.listen(backlog)\n",
    "* blacklog is # of pending connecitons to allow\n",
    "* not related to max number of clients"
   ]
  },
  {
   "cell_type": "markdown",
   "id": "4b144bd0-11ba-41db-a87e-e520d40bc38b",
   "metadata": {},
   "source": [
    "Accepting a new conneciton\n",
    "```python\n",
    "conn, addr = s.accept()\n",
    "```\n",
    "* `s.accept()` blocks until connection received\n",
    "* server sleeps if nothing is happening\n",
    "* accept returns a pair (client_socket, address)"
   ]
  },
  {
   "cell_type": "markdown",
   "id": "e24c6a60-01e6-4129-a500-ed9cba50f557",
   "metadata": {},
   "source": [
    "Sending data back to client\n",
    "```python\n",
    "conn.send()\n",
    "```\n",
    "* use the client socket for transmitting data.\n",
    "* The server socket is only used for accepting new connections."
   ]
  },
  {
   "cell_type": "markdown",
   "id": "4d1df41e-7395-49b2-bf9f-9f1404709357",
   "metadata": {},
   "source": [
    "## Partial Reads/Writes"
   ]
  },
  {
   "cell_type": "markdown",
   "id": "b62d3143-da2a-4456-a571-d82a024377ff",
   "metadata": {},
   "source": [
    "* be aware that reading/writing to a socket may involve partial data transfer\n",
    "* `send()` returns actual bytes sent\n",
    "* `recv()` length is only a maximum limit"
   ]
  },
  {
   "cell_type": "markdown",
   "id": "bdb9b789-2abf-49c9-862e-7de43ef0eac7",
   "metadata": {},
   "source": [
    "* be aware that for TCP, the data stream is continuous - no concept of records"
   ]
  },
  {
   "cell_type": "raw",
   "id": "6bd19cb0-42c6-472b-aff3-cda853c1aa22",
   "metadata": {},
   "source": [
    "# Client\n",
    "...\n",
    "s.send(data)\n",
    "s.send(moredata)\n",
    "...\n",
    "\n",
    "# Server\n",
    "data = s.recv(maxsize)"
   ]
  },
  {
   "cell_type": "markdown",
   "id": "613d16cf-bbec-4fc4-b308-fd44bb15176f",
   "metadata": {},
   "source": [
    "This `recv()` may return data from both of the sends combined or less data than even the first send"
   ]
  },
  {
   "cell_type": "markdown",
   "id": "4805fd56-d66d-49d8-8724-81e1d4c30134",
   "metadata": {},
   "source": [
    "## Sending All Data"
   ]
  },
  {
   "cell_type": "markdown",
   "id": "d1c4b94e-e3e0-4ea0-94c7-c6484bfa48e4",
   "metadata": {},
   "source": [
    "* to wait until data is sent, use `sendall()`\n",
    "```python\n",
    "s.sendall(data)\n",
    "```\n",
    "* blocks until all data is transmitted\n",
    "* for most normal applications, this is what you should use\n",
    "* You don't use this if networking is mixed in with other kinds of processing"
   ]
  },
  {
   "cell_type": "markdown",
   "id": "34c2c927-f113-48b8-aba5-1418abb04ce1",
   "metadata": {},
   "source": [
    "## End of Data\n",
    "* How to tell if there is no more data?\n",
    "* `recv()` will return empty string\n",
    "```python\n",
    ">>> s.recv(1000)\n",
    "''\n",
    ">>>\n",
    "```\n",
    "* this means that the other end of the conneciton has been close (no more sends)"
   ]
  },
  {
   "cell_type": "markdown",
   "id": "8420d1a4-6873-4bd7-bfc3-e4def8cf86a1",
   "metadata": {},
   "source": [
    "## Data Reassembly"
   ]
  },
  {
   "cell_type": "markdown",
   "id": "3459e23c-c1a8-4eef-893f-1edcfa87f509",
   "metadata": {},
   "source": [
    "Receivers often need to reassemble messages from a series of small chunks"
   ]
  },
  {
   "cell_type": "code",
   "execution_count": null,
   "id": "7a65856a-df8f-4f5b-a988-a39d781be2f8",
   "metadata": {},
   "outputs": [],
   "source": [
    "fragments = []\n",
    "while not done:\n",
    "    chunk = s.recv(maxsize)\n",
    "    if not chunk:\n",
    "        break\n",
    "    fragments.append(chunk)\n",
    "    \n",
    "message = \"\".join(fragments)"
   ]
  },
  {
   "cell_type": "markdown",
   "id": "4a92f40c-9c83-4fc7-94ff-e30b6359b186",
   "metadata": {},
   "source": [
    "## Timeouts"
   ]
  },
  {
   "cell_type": "markdown",
   "id": "fd4bb7c2-6835-4f83-a4c6-b4dc556d74db",
   "metadata": {},
   "source": [
    "* Most socket operations block indefinitely\n",
    "* can set an optional timeout\n",
    "```python\n",
    "s = socket(AF_INET, SOCK_STREAM)\n",
    "s.settimeout(5.0)\n",
    "```\n",
    "* disabling timeouts\n",
    "`s.settimeout(None)`"
   ]
  },
  {
   "cell_type": "markdown",
   "id": "de1275ee-c30e-4f9d-af7c-f020f3a64c8f",
   "metadata": {},
   "source": [
    "## Non-blocking Sockets"
   ]
  },
  {
   "cell_type": "markdown",
   "id": "d69afc58-04b8-4f43-b4bc-0c6be7836352",
   "metadata": {},
   "source": [
    "* Instead of timeouts, can set non-blocking  \n",
    "`s.setblocking(False)`"
   ]
  },
  {
   "cell_type": "markdown",
   "id": "31580d64-310d-4720-ba78-747bd6b89982",
   "metadata": {},
   "source": [
    "## Socket Options"
   ]
  },
  {
   "cell_type": "markdown",
   "id": "243872ca-c955-4430-8f54-79da2cd86f9c",
   "metadata": {},
   "source": [
    "* Sockets have a large number of parameters\n",
    "* Example: Reusing the port number\n",
    "```python\n",
    "s.setsockopt(socket.SOL_SOCKET, socket.SO_REUSEADDR, 1)\n",
    "```"
   ]
  },
  {
   "cell_type": "markdown",
   "id": "0e3e74a1-f3a9-4dbf-9400-d03314f290a7",
   "metadata": {
    "tags": []
   },
   "source": [
    "# Sockets and Concurrency"
   ]
  },
  {
   "cell_type": "markdown",
   "id": "b21b1226-3022-448d-8bb7-0e9ecb60c2d3",
   "metadata": {},
   "source": [
    "* Servers usually handle multiple clients\n",
    "* Each client gets its own socket on server\n",
    "```python\n",
    "...\n",
    "while True:\n",
    "    conn, addr = s.accept()\n",
    "    ...\n",
    "```\n",
    "* new connections make a new socket"
   ]
  },
  {
   "cell_type": "markdown",
   "id": "fa3540ab-8bd1-4efe-bb4d-4cc3c2ac27d1",
   "metadata": {},
   "source": [
    "* To manage multiple clients\n",
    "    * server must always be ready to accept new connections\n",
    "    * must allow each client to operate independently (each may be performing different tasks on the server)\n",
    "    "
   ]
  },
  {
   "cell_type": "markdown",
   "id": "b00e6bc8-64fd-4f13-9565-d771f4c4cc61",
   "metadata": {},
   "source": [
    "## Threaded Server"
   ]
  },
  {
   "cell_type": "markdown",
   "id": "b38c0d56-3368-446a-bef4-6c56c0be2364",
   "metadata": {},
   "source": [
    "Each client is handled by a separate thread"
   ]
  },
  {
   "cell_type": "code",
   "execution_count": null,
   "id": "ef878cd3-2489-4cfd-94d4-b6f29b366b59",
   "metadata": {},
   "outputs": [],
   "source": [
    "import threading\n",
    "from socket import *\n",
    "\n",
    "def handle_client(c):\n",
    "    ... whatever...\n",
    "    c.close()\n",
    "    return\n",
    "\n",
    "s = socket(AF_INET, SOCK_STREAM)\n",
    "s.bind(('', 9000))\n",
    "s.listen(5)\n",
    "while True:\n",
    "    conn, addr = s.accept()\n",
    "    t = threading.Thread(target=handle_client, args=(conn,))"
   ]
  },
  {
   "cell_type": "markdown",
   "id": "8d837f3f-0283-4928-90c1-0b6ecd217120",
   "metadata": {},
   "source": [
    "## Forking server"
   ]
  },
  {
   "cell_type": "markdown",
   "id": "c7d7a535-909b-4acf-881b-318c65ca3dba",
   "metadata": {},
   "source": [
    "Each client is handled by a subprocess"
   ]
  },
  {
   "cell_type": "code",
   "execution_count": null,
   "id": "e3611b9c-30d6-4de3-9ba1-ed26fe340d1d",
   "metadata": {},
   "outputs": [],
   "source": [
    "import os\n",
    "from socket import *\n",
    "\n",
    "s = socket(AF_INET, SOCK_STREAM)\n",
    "s.bind(('', 9000))\n",
    "s.listen(5)\n",
    "while True:\n",
    "    conn, addr = s.accept()\n",
    "    if os.fork() == 0:\n",
    "        # Child proccess, manage client\n",
    "        ...\n",
    "        conn.close()\n",
    "        os._exit(0)\n",
    "    else:\n",
    "        # Parent process. Clean up and go\n",
    "        # back to wait for more connections\n",
    "        conn.close()"
   ]
  },
  {
   "cell_type": "markdown",
   "id": "ebbc35ac-f80c-4fc9-aa99-da4bc67b6dc8",
   "metadata": {},
   "source": [
    "## Asynchronous Server"
   ]
  },
  {
   "cell_type": "markdown",
   "id": "9717814d-a9f3-4c86-9f96-9c374bc1ad3e",
   "metadata": {},
   "source": [
    "Server handles all clients in an event loop"
   ]
  },
  {
   "cell_type": "code",
   "execution_count": null,
   "id": "f499df5e-266c-4d6d-93da-e84243c5cc6a",
   "metadata": {},
   "outputs": [],
   "source": [
    "import select\n",
    "from socket import *\n",
    "\n",
    "s = socket(AF_INET, SOCK_STREAM)\n",
    "...\n",
    "\n",
    "clients = []\n",
    "while True:\n",
    "    # Look for activity on any of my sockets\n",
    "    input, output, err = select.select(s+clients, clients, clients)\n",
    "    # Process all sockets with input\n",
    "    for i in input:\n",
    "        ...\n",
    "    # Process all sockets ready for output\n",
    "    for o in output:\n",
    "        ..."
   ]
  },
  {
   "cell_type": "markdown",
   "id": "ba971578-ce94-4411-8e72-6459f4283987",
   "metadata": {},
   "source": [
    "## Utility functions"
   ]
  },
  {
   "cell_type": "markdown",
   "id": "4dd535c9-5bf8-4c4a-a14e-19034b294b3f",
   "metadata": {},
   "source": [
    "Get the hostname of the local machine"
   ]
  },
  {
   "cell_type": "code",
   "execution_count": null,
   "id": "32cca22b-b842-49a6-8d2d-87f624c79c83",
   "metadata": {},
   "outputs": [],
   "source": [
    "import socket"
   ]
  },
  {
   "cell_type": "code",
   "execution_count": null,
   "id": "0d573089-94d4-4df6-bac5-18dd1ec6c2bc",
   "metadata": {},
   "outputs": [],
   "source": [
    "socket.gethostname()"
   ]
  },
  {
   "cell_type": "markdown",
   "id": "a13497bb-379f-4785-996d-01c2f9dadbcd",
   "metadata": {},
   "source": [
    "Get the IP address of a remote machine"
   ]
  },
  {
   "cell_type": "code",
   "execution_count": null,
   "id": "39470951-99f4-4873-8a91-feebf3e66ccf",
   "metadata": {},
   "outputs": [],
   "source": [
    "socket.gethostbyname('www.python.org')"
   ]
  },
  {
   "cell_type": "markdown",
   "id": "e2fed30e-2209-45dd-a698-9906f4242346",
   "metadata": {},
   "source": [
    "Get name information on a remote IP"
   ]
  },
  {
   "cell_type": "code",
   "execution_count": null,
   "id": "adc8f956-6f18-45b5-accc-54a0ff0275ac",
   "metadata": {},
   "outputs": [],
   "source": [
    "socket.gethostbyaddr(\"8.8.8.8\")"
   ]
  },
  {
   "cell_type": "markdown",
   "id": "88ee6944-3b09-498b-8a78-0b5c15f9bf9e",
   "metadata": {
    "tags": []
   },
   "source": [
    "# Web Programming Basics"
   ]
  },
  {
   "cell_type": "markdown",
   "id": "663fdab7-a058-4454-b357-e15af2e29f50",
   "metadata": {},
   "source": [
    "## HTTP Explained"
   ]
  },
  {
   "cell_type": "markdown",
   "id": "521d4170-f9b5-4ab3-8a83-fbe2ee0c3b76",
   "metadata": {},
   "source": [
    "* HTTP is the underlying protocol of the web\n",
    "* Consists of requests and responses"
   ]
  },
  {
   "cell_type": "markdown",
   "id": "a5b0fe4b-b5bc-43f0-a245-019d75d8df75",
   "metadata": {},
   "source": [
    "Request\n",
    "```bash\n",
    "GET /index.html HTTP/1.1\n",
    "```\n",
    "Response\n",
    "```bash\n",
    "HTTP/1.1 200 OK\n",
    "...\n",
    "<content>\n",
    "```\n"
   ]
  },
  {
   "cell_type": "markdown",
   "id": "e8fbf08c-496c-43a4-9ad9-bbfbda97c87f",
   "metadata": {},
   "source": [
    "## HTTP Protocol"
   ]
  },
  {
   "cell_type": "markdown",
   "id": "4f6a78cc-4313-4ba4-9848-e0ad0ebe6b6d",
   "metadata": {},
   "source": [
    "There are a number of requests types\n",
    "- `GET`\n",
    "- `POST`\n",
    "- `HEAD`\n",
    "- `PUT`  \n",
    "..."
   ]
  },
  {
   "cell_type": "markdown",
   "id": "90efb325-12f9-44e9-a5d7-f449cf415fc8",
   "metadata": {},
   "source": [
    "There are standardized response codes\n",
    "* `200 OK`\n",
    "* `403 Forbidden`\n",
    "* `404 Not Found`\n",
    "* `501 Not Implemented`"
   ]
  },
  {
   "cell_type": "markdown",
   "id": "5228db5a-4add-40fa-829a-d4836b0c2244",
   "metadata": {},
   "source": [
    "## Content Encoding"
   ]
  },
  {
   "cell_type": "markdown",
   "id": "9b69dced-f377-43b2-86e0-97ab74d8c4a7",
   "metadata": {},
   "source": [
    "Content is descibed by these header fields:  \n",
    "    `Content-type:`  \n",
    "    `Content-length:`"
   ]
  },
  {
   "cell_type": "markdown",
   "id": "88c24405-4010-42fb-b214-7be18ce6235e",
   "metadata": {},
   "source": [
    "Example:  \n",
    "```bash\n",
    "Content-type: image/jpeg\n",
    "Content-length: 12422\n",
    "```"
   ]
  },
  {
   "cell_type": "markdown",
   "id": "8e8f7833-47d3-47a9-a2a4-de9ba0634e19",
   "metadata": {},
   "source": [
    "## Typical Python Tasks"
   ]
  },
  {
   "cell_type": "markdown",
   "id": "be2d3a84-5276-4a3f-bcc2-d16407d19963",
   "metadata": {},
   "source": [
    "**Static content generation** - One-time generation of static web pages to be served by a standard web server such as Apache."
   ]
  },
  {
   "cell_type": "markdown",
   "id": "f154eaef-5f68-46e9-b751-efa26f179e3a",
   "metadata": {},
   "source": [
    "**Dynamic content generation** - Python scripts that produce output in response to requests (e.g. , form processing, CGI scripting)"
   ]
  },
  {
   "cell_type": "markdown",
   "id": "4e5c3cf9-5166-4405-8578-ef490b5e810d",
   "metadata": {},
   "source": [
    "## A Simple Web Server"
   ]
  },
  {
   "cell_type": "markdown",
   "id": "471e52db-ee7b-4e29-8d41-27c6b8b98529",
   "metadata": {},
   "source": [
    "Serve files form a directory"
   ]
  },
  {
   "cell_type": "code",
   "execution_count": null,
   "id": "06450023-ebe9-4e02-88ed-8832c778f0f9",
   "metadata": {},
   "outputs": [],
   "source": [
    "from http.server import HTTPServer\n",
    "from http.server import SimpleHTTPRequestHandler\n",
    "import os\n",
    "\n",
    "pwd = os.getcwd()\n",
    "os.chdir(f'{pwd}')\n",
    "serv = HTTPServer((\"\", 9876), SimpleHTTPRequestHandler)\n",
    "serv.serve_forever()"
   ]
  },
  {
   "cell_type": "markdown",
   "id": "cb13e6fc-f788-4cae-8f0f-183aaf0eb196",
   "metadata": {},
   "source": [
    "Connect with a browser and try it out!"
   ]
  },
  {
   "cell_type": "markdown",
   "id": "558920e1-6cc0-47fd-beff-b65fa836522d",
   "metadata": {},
   "source": [
    "## CGI Scripting"
   ]
  },
  {
   "cell_type": "markdown",
   "id": "8102ddaa-acab-4db3-a148-f9780004d249",
   "metadata": {},
   "source": [
    "* Common Gateway Interface\n",
    "* A common protocol used by existing web servers to run server-side scripts, plugins etc\n",
    "* Example: running Python, Perl, Ruby scripts under Apache\n",
    "* Classically associated with form processing but that's far from the only applicaiton"
   ]
  },
  {
   "cell_type": "markdown",
   "id": "f87eec0c-00a3-4e36-b4f1-2c18eaebda0e",
   "metadata": {},
   "source": [
    "## CGI Mechanics"
   ]
  },
  {
   "cell_type": "markdown",
   "id": "6d54a8d8-db0a-4daf-be5f-821f0315ee16",
   "metadata": {},
   "source": [
    "* CGI was originally implemented as a scheme for launching processing scripts as a subprocess to a web server"
   ]
  },
  {
   "cell_type": "code",
   "execution_count": null,
   "id": "76a6b4d2-516c-491c-8c8b-9380767f8e22",
   "metadata": {},
   "outputs": [],
   "source": [
    "from IPython.display import Image\n",
    "Image(\"images/cgi.png\")"
   ]
  },
  {
   "cell_type": "markdown",
   "id": "c13ce339-71f2-4617-b0e5-aee381c7498a",
   "metadata": {},
   "source": [
    "## Classic CGI Interface"
   ]
  },
  {
   "cell_type": "markdown",
   "id": "cd2c80d6-20ec-4354-8fcc-23636c4ea541",
   "metadata": {},
   "source": [
    "* Server populates environment variables with information about the request  \n",
    "\n",
    "```python\n",
    "import os\n",
    "os.environ['SCRIPT_NAME']\n",
    "os.environ['REMOTE_ADDR']\n",
    "os.environ['QUERY_STRING']\n",
    "os.environ['REQUEST_METHOD']\n",
    "os.environ['CONTENT_TYPE']\n",
    "os.environ['CONTENT_LENGTH']\n",
    "os.environ['HTTP_COOKIE']\n",
    "```"
   ]
  },
  {
   "cell_type": "markdown",
   "id": "ce21bd12-f0ff-4763-baba-55feab0cba13",
   "metadata": {},
   "source": [
    "* stdin/stdout provide I/O link to server\n",
    "```python\n",
    "sys.stdin  # Read to get data sent by client\n",
    "sys.stdout # Write to create the response\n",
    "```"
   ]
  },
  {
   "cell_type": "markdown",
   "id": "2d29e30f-62d3-4bfa-8640-070c8f346328",
   "metadata": {},
   "source": [
    "## WSGI"
   ]
  },
  {
   "cell_type": "markdown",
   "id": "71876b95-8fa0-4484-9724-4e37f073b6ea",
   "metadata": {},
   "source": [
    "* Web Services Gateway Interface (WSGI)\n",
    "* This is a standardized interface for creating\n",
    "* Allows one to create code that can run under a wide variety of\n",
    "web servers and frameworks as long as the also support WSGI"
   ]
  },
  {
   "cell_type": "markdown",
   "id": "3a465d6a-e427-4094-bb39-604ba0e8e070",
   "metadata": {},
   "source": [
    "## WSGI Interface"
   ]
  },
  {
   "cell_type": "markdown",
   "id": "c13997df-d533-4f94-be97-f03004eb490c",
   "metadata": {},
   "source": [
    "* WSGI is an application programming interface loosely based on CGI programming\n",
    "* In CGI, there are just two basic features:\n",
    "    * getting values on inputs (env variables)\n",
    "    * producing output by printing\n",
    "* WSGI takes this concept and repackages it into a more modular form\n"
   ]
  },
  {
   "cell_type": "markdown",
   "id": "051b3ebc-8ec8-41a9-823f-cb702b319b53",
   "metadata": {},
   "source": [
    "## WSGI Example"
   ]
  },
  {
   "cell_type": "markdown",
   "id": "7a6a4fce-4029-4762-a4c4-f09731e38aaa",
   "metadata": {},
   "source": [
    "* With WSGI, you write an \"application\"\n",
    "* An application is just a function (or callable)\n",
    "```python\n",
    "def hello_app(environ, start_response):\n",
    "    status = \"200 OK\"\n",
    "    response_headers = [('Content-type', 'test/plain')]\n",
    "    response = []\n",
    "    \n",
    "    start_response(status, response_headers)\n",
    "    response.append(\"Hello World\\n\")\n",
    "    response.append(\"You requested: \" + environ[\"PATH_INFO\"])\n",
    "    return response\n",
    "```\n",
    "* this function encapsulates the handling of some request that will be received"
   ]
  },
  {
   "cell_type": "markdown",
   "id": "3665ea52-ccb8-4a52-88eb-4398980e430a",
   "metadata": {},
   "source": [
    "## WSGI Applications\n",
    "\n",
    "* Applications always receive just two inputs\n",
    "```python\n",
    "def hello_app(environ, start_response):\n",
    "```\n",
    "* environ -  a dictionary of input parameters\n",
    "* start_response - a callable (e.g. function)"
   ]
  },
  {
   "cell_type": "code",
   "execution_count": null,
   "id": "ea57e338-0271-4494-aa1f-34239c00ca5c",
   "metadata": {},
   "outputs": [],
   "source": [
    "Image(\"images/wsgi1.png\")"
   ]
  },
  {
   "cell_type": "code",
   "execution_count": null,
   "id": "ca86a72a-767c-4916-a022-001f51ebeb86",
   "metadata": {},
   "outputs": [],
   "source": [
    "Image(\"images/wsgi2.png\")"
   ]
  },
  {
   "cell_type": "markdown",
   "id": "b146633f-5505-4708-8426-67c7ad5daef1",
   "metadata": {
    "tags": []
   },
   "source": [
    "## WSGI Responses\n",
    "* `start_response()` - a hook back to the server\n",
    "* gives the server information for formulating the response (status, headers, etc.)\n",
    "* prepares the server for receiving content data"
   ]
  },
  {
   "cell_type": "code",
   "execution_count": null,
   "id": "94811a56-3092-4ce4-b4ab-4d00dd6b1cc0",
   "metadata": {},
   "outputs": [],
   "source": [
    "def hello_app(environ, start_response):\n",
    "    status = \"200 OK\"\n",
    "    response_headers = [(\"content-type\", \"text/html\")]\n",
    "    \n",
    "    start_response(status, response_headers)\n",
    "    return [u\"That's a spicy Jalape\\u00f1o\".encode('utf-8')]"
   ]
  },
  {
   "cell_type": "markdown",
   "id": "0fb7f99c-9476-4514-944b-beb3f09750f7",
   "metadata": {},
   "source": [
    "## WSGI Content\n",
    "* Content is returned **as a sequence of byte strings**  \n",
    "\n",
    "```python\n",
    "response = []\n",
    "\n",
    "response.append(\"Hello World\\n\")\n",
    "response.append(\"You requested: \" + environ['PATH_INFO'])\n",
    "return response\n",
    "```\n",
    "* Note: This differs from CGI programming where you produce output using print."
   ]
  },
  {
   "cell_type": "markdown",
   "id": "f89e54d1-a4b7-400d-bbd5-476fc01883c6",
   "metadata": {},
   "source": [
    "## WSGI Content Encoding\n",
    "* WSGI applications must always produce bytes\n",
    "* If working with Unicode, it must be encoded\n",
    "                   "
   ]
  },
  {
   "cell_type": "markdown",
   "id": "3b005a6d-340d-4780-b248-297829db4d54",
   "metadata": {},
   "source": [
    "## WSGI Deployment\n",
    "* The main point of WSGI is to simplify deployment of web applications\n",
    "* You will notice that the interface depends on no third party libraries, no objects, or even any standard library modules\n",
    "* That is intentional. WSGI apps are supposed to be small self-contained units that plug into other environments"
   ]
  },
  {
   "cell_type": "markdown",
   "id": "e33aa5e5-dd00-4b2e-b4f2-4a18716529a3",
   "metadata": {},
   "source": [
    "* Running a simple stand-alone WSGI server"
   ]
  },
  {
   "cell_type": "code",
   "execution_count": null,
   "id": "03ea3261-bfcb-44e7-aa39-7b2fc1822967",
   "metadata": {},
   "outputs": [],
   "source": [
    "from wsgiref import simple_server\n",
    "httpd = simple_server.make_server(\"\", 9001, hello_app)\n",
    "httpd.serve_forever()"
   ]
  },
  {
   "cell_type": "markdown",
   "id": "1082844f-d4b0-4a79-a9b0-cda7309933b9",
   "metadata": {},
   "source": [
    "# Advanced Networking"
   ]
  },
  {
   "cell_type": "markdown",
   "id": "cffe9b9c-872e-4530-ab39-1dacc2bc1b45",
   "metadata": {},
   "source": [
    "## SocketServer"
   ]
  },
  {
   "cell_type": "markdown",
   "id": "c385b93a-4522-4d5b-9658-a52013cce2b9",
   "metadata": {},
   "source": [
    "* A module for writing custom servers\n",
    "* Supports TCP and UDP networking\n",
    "* The module aims to simplify some of the low-level details of working with sockets and to put all of that functionality in one place"
   ]
  },
  {
   "cell_type": "markdown",
   "id": "1990bc01-e924-4665-9162-89c0b964a4c4",
   "metadata": {},
   "source": [
    "## SocketServer Example\n",
    "* To use SocketServer, you define handler objects using classes\n",
    "* Example: A time server"
   ]
  },
  {
   "cell_type": "code",
   "execution_count": null,
   "id": "936722aa-89e7-4c12-8407-32a08242a7bd",
   "metadata": {},
   "outputs": [],
   "source": [
    "import socketserver\n",
    "import time\n",
    "\n",
    "class TimeHandler(socketserver.BaseRequestHandler):\n",
    "    def handle(self):\n",
    "        self.request.sendall(b'hi mom')\n",
    "        \n",
    "serv = socketserver.TCPServer((\"\", 9005), TimeHandler)\n",
    "serv.serve_forever()"
   ]
  },
  {
   "cell_type": "markdown",
   "id": "5b55b33e-9d8e-4467-8099-fd887cb3a4e9",
   "metadata": {},
   "source": [
    "## Execution Model\n",
    "* Server runs in a loop waiting for requests\n",
    "* On each connection, the server creates a **new instantiation** of the handler class\n",
    "* the handle() method is invoked to handle the logic of communicating with the client\n",
    "* when handle() returns, the connection is closed and the handler instance si destroyed"
   ]
  },
  {
   "cell_type": "markdown",
   "id": "88a57fec-a45d-47ae-849f-981792f04798",
   "metadata": {},
   "source": [
    "## XML-RPC\n",
    "* Remote Procedure Call\n",
    "* Uses HTTP as a transpoer protocol\n",
    "* Parameters/Results encoded in XML\n",
    "* Supported by languages other than Python "
   ]
  },
  {
   "cell_type": "markdown",
   "id": "21830527-9172-4bd6-89f2-6ffe12b07087",
   "metadata": {},
   "source": [
    "## Simple XML-RPC\n",
    "* How to create a stand-alone server"
   ]
  },
  {
   "cell_type": "code",
   "execution_count": null,
   "id": "432c2b7f-8353-4510-8525-042afcc1f90b",
   "metadata": {},
   "outputs": [],
   "source": [
    "from xmlrpc.server import SimpleXMLRPCServer\n",
    "\n",
    "def add(x, y):\n",
    "    return x + y\n",
    "\n",
    "s = SimpleXMLRPCServer((\"\", 8082))\n",
    "s.register_function(add)\n",
    "s.serve_forever()"
   ]
  },
  {
   "cell_type": "markdown",
   "id": "d8eedfe1-6e81-4e96-bfe5-1ab438cdcf71",
   "metadata": {},
   "source": [
    "Test"
   ]
  },
  {
   "cell_type": "code",
   "execution_count": null,
   "id": "206281a7-c895-4acb-a45f-6f49888736d5",
   "metadata": {},
   "outputs": [],
   "source": [
    "import xmlrpc.client\n",
    "s = xmlrpc.client.ServerProxy(\"http://localhost:8082\")\n",
    "s.add(3,5)"
   ]
  },
  {
   "cell_type": "markdown",
   "id": "92f4f9dc-2858-469a-8c6e-755f67fc59d1",
   "metadata": {},
   "source": [
    "* Adding multiple function\n",
    "```python\n",
    "s = SimpleXMLRPCServer((\"\",8080))\n",
    "s.register_function(add)\n",
    "s.register_function(foo)\n",
    "s.register_function(bar)\n",
    "s.serve_forever()\n",
    "```"
   ]
  },
  {
   "cell_type": "markdown",
   "id": "a10b4dff-1da4-4cde-a57a-451692498353",
   "metadata": {},
   "source": [
    "## Serializing Python Objects\n",
    "* In distributed applications, you may want to pass various kinds of Python objects around\n",
    "* Libraries such as XML-RPC support simple data types, but not anything more complex\n",
    "* However, serilizing arbitrary Python objects into byte-string is quite simple"
   ]
  },
  {
   "cell_type": "markdown",
   "id": "b4a22a9d-b20e-4931-a642-6286cef278f8",
   "metadata": {},
   "source": [
    "## Miscellaneous Comments\n",
    "* Pickle is really only useful if used in a Python-only environment\n",
    "* Would not use if you need to communicate to other programming languages\n",
    "* There are also security concerns\n",
    "* Never use pickle with untrusted clients"
   ]
  }
 ],
 "metadata": {
  "kernelspec": {
   "display_name": "Python 3 (ipykernel)",
   "language": "python",
   "name": "python3"
  },
  "language_info": {
   "codemirror_mode": {
    "name": "ipython",
    "version": 3
   },
   "file_extension": ".py",
   "mimetype": "text/x-python",
   "name": "python",
   "nbconvert_exporter": "python",
   "pygments_lexer": "ipython3",
   "version": "3.8.9"
  }
 },
 "nbformat": 4,
 "nbformat_minor": 5
}
