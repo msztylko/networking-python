{
 "cells": [
  {
   "cell_type": "markdown",
   "id": "ba11af47-14d4-4172-a1f2-81962fb4eb9c",
   "metadata": {
    "tags": []
   },
   "source": [
    "# Network Programming Cookbook"
   ]
  },
  {
   "cell_type": "markdown",
   "id": "bf83a043-5803-4fd5-9785-3eec7abccdd1",
   "metadata": {},
   "source": [
    "## Printing your machine's name and IPv4 addrees"
   ]
  },
  {
   "cell_type": "code",
   "execution_count": 7,
   "id": "79f43c11-95bd-4bb5-9860-10f182c56cf1",
   "metadata": {},
   "outputs": [],
   "source": [
    "import socket"
   ]
  },
  {
   "cell_type": "code",
   "execution_count": 28,
   "id": "f54b818a-48e0-4a54-90fa-cbe8a1ae6241",
   "metadata": {},
   "outputs": [
    {
     "data": {
      "text/plain": [
       "\u001b[0;31mDocstring:\u001b[0m\n",
       "gethostname() -> string\n",
       "\n",
       "Return the current host name.\n",
       "\u001b[0;31mType:\u001b[0m      builtin_function_or_method\n"
      ]
     },
     "metadata": {},
     "output_type": "display_data"
    }
   ],
   "source": [
    "socket.gethostname?"
   ]
  },
  {
   "cell_type": "code",
   "execution_count": 8,
   "id": "95021d29-47a0-4806-b8b3-03370d72ad58",
   "metadata": {},
   "outputs": [],
   "source": [
    "host_name = socket.gethostname()"
   ]
  },
  {
   "cell_type": "code",
   "execution_count": 9,
   "id": "62a10907-2692-46f8-b540-9373f1fd8da5",
   "metadata": {},
   "outputs": [
    {
     "data": {
      "text/plain": [
       "'macbook-air-marcin.home'"
      ]
     },
     "execution_count": 9,
     "metadata": {},
     "output_type": "execute_result"
    }
   ],
   "source": [
    "host_name"
   ]
  },
  {
   "cell_type": "code",
   "execution_count": 29,
   "id": "89b7ebd0-0c1c-4243-9eba-c8a449f17728",
   "metadata": {},
   "outputs": [
    {
     "data": {
      "text/plain": [
       "\u001b[0;31mDocstring:\u001b[0m\n",
       "gethostbyname(host) -> address\n",
       "\n",
       "Return the IP address (a string of the form '255.255.255.255') for a host.\n",
       "\u001b[0;31mType:\u001b[0m      builtin_function_or_method\n"
      ]
     },
     "metadata": {},
     "output_type": "display_data"
    }
   ],
   "source": [
    "socket.gethostbyname?"
   ]
  },
  {
   "cell_type": "code",
   "execution_count": 10,
   "id": "c466eeba-baf4-418a-8793-e30a4e302cc0",
   "metadata": {},
   "outputs": [
    {
     "data": {
      "text/plain": [
       "'192.168.1.16'"
      ]
     },
     "execution_count": 10,
     "metadata": {},
     "output_type": "execute_result"
    }
   ],
   "source": [
    "socket.gethostbyname(host_name)"
   ]
  },
  {
   "cell_type": "markdown",
   "id": "84848ffa-7fdd-42bf-87ea-a61312e54793",
   "metadata": {},
   "source": [
    "## Retrieving a remote machine's IP address"
   ]
  },
  {
   "cell_type": "code",
   "execution_count": 11,
   "id": "0ce14b5c-c751-42ab-8576-6c219803d2c8",
   "metadata": {},
   "outputs": [],
   "source": [
    "remote_host = 'google.com'"
   ]
  },
  {
   "cell_type": "code",
   "execution_count": 12,
   "id": "9fc384ff-0527-4aad-bc03-201c5e6e82ff",
   "metadata": {},
   "outputs": [
    {
     "data": {
      "text/plain": [
       "'216.58.209.14'"
      ]
     },
     "execution_count": 12,
     "metadata": {},
     "output_type": "execute_result"
    }
   ],
   "source": [
    "socket.gethostbyname(remote_host)"
   ]
  },
  {
   "cell_type": "markdown",
   "id": "b9c9a124-ea38-4c04-acd0-02a0d9caea1e",
   "metadata": {},
   "source": [
    "## Converting an IPv4 address to different formats"
   ]
  },
  {
   "cell_type": "markdown",
   "id": "a776846d-2db5-4aab-8a51-c8b0c06ec6ff",
   "metadata": {},
   "source": [
    "When you deal with low-level network functions, sometimes, the usual string notation of IP addresses are not very useful. They need to be converted to the packed 32-bit binary formats."
   ]
  },
  {
   "cell_type": "code",
   "execution_count": 14,
   "id": "2697569d-2c61-4440-bcbf-8a6253c4f671",
   "metadata": {},
   "outputs": [],
   "source": [
    "ip_address = '127.0.0.1'"
   ]
  },
  {
   "cell_type": "code",
   "execution_count": 15,
   "id": "ed95d506-6343-4937-bc4f-8a568ed09ac3",
   "metadata": {},
   "outputs": [
    {
     "data": {
      "text/plain": [
       "\u001b[0;31mDocstring:\u001b[0m\n",
       "inet_aton(string) -> bytes giving packed 32-bit IP representation\n",
       "\n",
       "Convert an IP address in string format (123.45.67.89) to the 32-bit packed\n",
       "binary format used in low-level network functions.\n",
       "\u001b[0;31mType:\u001b[0m      builtin_function_or_method\n"
      ]
     },
     "metadata": {},
     "output_type": "display_data"
    }
   ],
   "source": [
    "# string to packed\n",
    "socket.inet_aton?"
   ]
  },
  {
   "cell_type": "code",
   "execution_count": 18,
   "id": "57c6c071-f4f1-4c32-8464-92ba5d25d19a",
   "metadata": {},
   "outputs": [],
   "source": [
    "packed = socket.inet_aton(ip_address)"
   ]
  },
  {
   "cell_type": "code",
   "execution_count": 19,
   "id": "1695419c-e872-4ac9-bdae-70fdbab35204",
   "metadata": {},
   "outputs": [
    {
     "data": {
      "text/plain": [
       "b'\\x7f\\x00\\x00\\x01'"
      ]
     },
     "execution_count": 19,
     "metadata": {},
     "output_type": "execute_result"
    }
   ],
   "source": [
    "packed"
   ]
  },
  {
   "cell_type": "code",
   "execution_count": 23,
   "id": "ea1afa93-aea1-4a10-a682-0c404de09bb9",
   "metadata": {},
   "outputs": [],
   "source": [
    "# Sometimes it's useful to display it in a more friendly format"
   ]
  },
  {
   "cell_type": "code",
   "execution_count": 24,
   "id": "9639a318-ac39-4481-84e3-53d9d78ab5c5",
   "metadata": {},
   "outputs": [],
   "source": [
    "from binascii import hexlify"
   ]
  },
  {
   "cell_type": "code",
   "execution_count": 30,
   "id": "3308ec3f-eaf8-4348-bebb-f4d8447b872a",
   "metadata": {},
   "outputs": [
    {
     "data": {
      "text/plain": [
       "\u001b[0;31mDocstring:\u001b[0m\n",
       "Hexadecimal representation of binary data.\n",
       "\n",
       "  sep\n",
       "    An optional single character or byte to separate hex bytes.\n",
       "  bytes_per_sep\n",
       "    How many bytes between separators.  Positive values count from the\n",
       "    right, negative values count from the left.\n",
       "\n",
       "The return value is a bytes object.  This function is also\n",
       "available as \"b2a_hex()\".\n",
       "\u001b[0;31mType:\u001b[0m      builtin_function_or_method\n"
      ]
     },
     "metadata": {},
     "output_type": "display_data"
    }
   ],
   "source": [
    "hexlify?"
   ]
  },
  {
   "cell_type": "code",
   "execution_count": 25,
   "id": "d55dd6dc-a95e-43c8-802f-1be6112bb5ab",
   "metadata": {},
   "outputs": [
    {
     "data": {
      "text/plain": [
       "b'7f000001'"
      ]
     },
     "execution_count": 25,
     "metadata": {},
     "output_type": "execute_result"
    }
   ],
   "source": [
    "hexlify(packed)"
   ]
  },
  {
   "cell_type": "code",
   "execution_count": 26,
   "id": "58b0eabc-0775-4711-81b9-651694845ad5",
   "metadata": {},
   "outputs": [
    {
     "data": {
      "text/plain": [
       "\u001b[0;31mDocstring:\u001b[0m\n",
       "inet_ntoa(packed_ip) -> ip_address_string\n",
       "\n",
       "Convert an IP address from 32-bit packed binary format to string format\n",
       "\u001b[0;31mType:\u001b[0m      builtin_function_or_method\n"
      ]
     },
     "metadata": {},
     "output_type": "display_data"
    }
   ],
   "source": [
    "# 32-bit packed to string\n",
    "socket.inet_ntoa?"
   ]
  },
  {
   "cell_type": "code",
   "execution_count": 27,
   "id": "9f178dee-2751-478f-acf5-baf73a4f0cdc",
   "metadata": {},
   "outputs": [
    {
     "data": {
      "text/plain": [
       "'127.0.0.1'"
      ]
     },
     "execution_count": 27,
     "metadata": {},
     "output_type": "execute_result"
    }
   ],
   "source": [
    "socket.inet_ntoa(packed)"
   ]
  },
  {
   "cell_type": "markdown",
   "id": "b8350cc6-6b93-47cf-949e-a58517b4f854",
   "metadata": {},
   "source": [
    "## Finding a service name, given the port and protocol"
   ]
  },
  {
   "cell_type": "code",
   "execution_count": 31,
   "id": "a2dd1b8c-e590-4c1f-8e46-ac4f48a8de90",
   "metadata": {},
   "outputs": [
    {
     "data": {
      "text/plain": [
       "\u001b[0;31mDocstring:\u001b[0m\n",
       "getservbyport(port[, protocolname]) -> string\n",
       "\n",
       "Return the service name from a port number and protocol name.\n",
       "The optional protocol name, if given, should be 'tcp' or 'udp',\n",
       "otherwise any protocol will match.\n",
       "\u001b[0;31mType:\u001b[0m      builtin_function_or_method\n"
      ]
     },
     "metadata": {},
     "output_type": "display_data"
    }
   ],
   "source": [
    "socket.getservbyport?"
   ]
  },
  {
   "cell_type": "code",
   "execution_count": 34,
   "id": "8f9054a4-79a9-4cd5-896f-ca46806be70c",
   "metadata": {},
   "outputs": [
    {
     "data": {
      "text/plain": [
       "'http'"
      ]
     },
     "execution_count": 34,
     "metadata": {},
     "output_type": "execute_result"
    }
   ],
   "source": [
    "socket.getservbyport(80)"
   ]
  },
  {
   "cell_type": "markdown",
   "id": "de77762d-e176-4148-a301-cafc922ea9b7",
   "metadata": {},
   "source": [
    "## Setting and getting the default socket timeout"
   ]
  },
  {
   "cell_type": "code",
   "execution_count": 35,
   "id": "be994285-e15d-49b4-ad0d-e5fc4157a3d4",
   "metadata": {},
   "outputs": [],
   "source": [
    "s = socket.socket()"
   ]
  },
  {
   "cell_type": "code",
   "execution_count": 38,
   "id": "134ebd1c-e80e-4b19-89bc-f13a89d22622",
   "metadata": {},
   "outputs": [
    {
     "data": {
      "text/plain": [
       "\u001b[0;31mDocstring:\u001b[0m\n",
       "gettimeout() -> timeout\n",
       "\n",
       "Returns the timeout in seconds (float) associated with socket\n",
       "operations. A timeout of None indicates that timeouts on socket\n",
       "operations are disabled.\n",
       "\u001b[0;31mType:\u001b[0m      builtin_function_or_method\n"
      ]
     },
     "metadata": {},
     "output_type": "display_data"
    }
   ],
   "source": [
    "s.gettimeout?"
   ]
  },
  {
   "cell_type": "code",
   "execution_count": 37,
   "id": "1f1747bc-0628-4206-b3cc-b0d0c8690835",
   "metadata": {},
   "outputs": [
    {
     "name": "stdout",
     "output_type": "stream",
     "text": [
      "None\n"
     ]
    }
   ],
   "source": [
    "print(s.gettimeout())"
   ]
  },
  {
   "cell_type": "code",
   "execution_count": 39,
   "id": "8817bb40-141e-4888-a7e0-3665ea028960",
   "metadata": {},
   "outputs": [],
   "source": [
    "s.settimeout(100)"
   ]
  },
  {
   "cell_type": "markdown",
   "id": "a02ae721-0756-4e48-b302-4f9026d2ad76",
   "metadata": {},
   "source": [
    "## Modifying a socket's send/receive buffer sizes"
   ]
  },
  {
   "cell_type": "code",
   "execution_count": 40,
   "id": "cfade860-e80c-4308-acba-fa982366be8f",
   "metadata": {},
   "outputs": [],
   "source": [
    "send_buf_size = 4096\n",
    "recv_buf_size = 4096"
   ]
  },
  {
   "cell_type": "code",
   "execution_count": 41,
   "id": "dda620cd-98a2-48a9-8779-ace6e3862612",
   "metadata": {},
   "outputs": [],
   "source": [
    "sock = socket.socket(socket.AF_INET, socket.SOCK_STREAM)"
   ]
  },
  {
   "cell_type": "code",
   "execution_count": 43,
   "id": "6aac0168-98c1-431c-8792-172f295b3b1e",
   "metadata": {},
   "outputs": [
    {
     "data": {
      "text/plain": [
       "131072"
      ]
     },
     "execution_count": 43,
     "metadata": {},
     "output_type": "execute_result"
    }
   ],
   "source": [
    "# Before\n",
    "sock.getsockopt(socket.SOL_SOCKET, socket.SO_SNDBUF)"
   ]
  },
  {
   "cell_type": "code",
   "execution_count": 45,
   "id": "d87b8dc0-cb13-4b45-b94d-c34a9c6ff09c",
   "metadata": {},
   "outputs": [],
   "source": [
    "# After \n",
    "sock.setsockopt(socket.SOL_TCP, socket.TCP_NODELAY, 1)\n",
    "sock.setsockopt(socket.SOL_SOCKET, socket.SO_SNDBUF, send_buf_size)\n",
    "sock.setsockopt(socket.SOL_SOCKET, socket.SO_RCVBUF, recv_buf_size)"
   ]
  },
  {
   "cell_type": "code",
   "execution_count": 46,
   "id": "ae3f700d-6720-424f-bda4-19932a4e6719",
   "metadata": {},
   "outputs": [
    {
     "data": {
      "text/plain": [
       "4096"
      ]
     },
     "execution_count": 46,
     "metadata": {},
     "output_type": "execute_result"
    }
   ],
   "source": [
    "sock.getsockopt(socket.SOL_SOCKET, socket.SO_SNDBUF)"
   ]
  },
  {
   "cell_type": "markdown",
   "id": "1e329065-6204-4056-8fae-0de9f0b59eaf",
   "metadata": {},
   "source": [
    "## Changing a socket to the blocking/non-blocking mode"
   ]
  },
  {
   "cell_type": "markdown",
   "id": "c3ffdfe1-69c9-40d2-8a09-bfb60a2c4971",
   "metadata": {},
   "source": [
    "By default TCP sockets are placed in a blocking mode."
   ]
  },
  {
   "cell_type": "code",
   "execution_count": 47,
   "id": "0d985c51-2b5c-4722-8ff0-60cf1f6d7bf7",
   "metadata": {},
   "outputs": [],
   "source": [
    "s = socket.socket()"
   ]
  },
  {
   "cell_type": "code",
   "execution_count": 48,
   "id": "b885ef10-0960-4498-bd12-ef51e7879307",
   "metadata": {},
   "outputs": [
    {
     "data": {
      "text/plain": [
       "\u001b[0;31mDocstring:\u001b[0m\n",
       "setblocking(flag)\n",
       "\n",
       "Set the socket to blocking (flag is true) or non-blocking (false).\n",
       "setblocking(True) is equivalent to settimeout(None);\n",
       "setblocking(False) is equivalent to settimeout(0.0).\n",
       "\u001b[0;31mType:\u001b[0m      builtin_function_or_method\n"
      ]
     },
     "metadata": {},
     "output_type": "display_data"
    }
   ],
   "source": [
    "s.setblocking?"
   ]
  },
  {
   "cell_type": "code",
   "execution_count": 49,
   "id": "38a6b6f2-1fd1-4407-ac67-a7de868442ff",
   "metadata": {},
   "outputs": [],
   "source": [
    "# blocking\n",
    "s.setblocking(True)\n",
    "# non-blocking\n",
    "s.setblocking(False)"
   ]
  },
  {
   "cell_type": "markdown",
   "id": "68a7ddf8-f3a3-4339-ac2d-4a11df41f0cf",
   "metadata": {},
   "source": [
    "## Printing the current time from the internet time server"
   ]
  },
  {
   "cell_type": "code",
   "execution_count": 51,
   "id": "077957d2-c157-44f5-8f09-79541eb02ad5",
   "metadata": {},
   "outputs": [],
   "source": [
    "import ntplib\n",
    "from time import ctime"
   ]
  },
  {
   "cell_type": "code",
   "execution_count": 53,
   "id": "cc0282f6-b2a0-46e2-b2b2-1124c2113870",
   "metadata": {},
   "outputs": [
    {
     "name": "stdout",
     "output_type": "stream",
     "text": [
      "Fri Apr 22 19:55:52 2022\n"
     ]
    }
   ],
   "source": [
    "ntp_client = ntplib.NTPClient()\n",
    "r = ntp_client.request('pool.ntp.org')\n",
    "print(ctime(r.tx_time))"
   ]
  },
  {
   "cell_type": "markdown",
   "id": "fd7b3a07-578f-42a3-a732-bf25545b5662",
   "metadata": {},
   "source": [
    "## TCP client"
   ]
  },
  {
   "cell_type": "markdown",
   "id": "26b88935-0ca6-483e-a47c-70208d0867f1",
   "metadata": {},
   "source": [
    "The most minimal example possible"
   ]
  },
  {
   "cell_type": "code",
   "execution_count": 57,
   "id": "0ba6ccda-29b5-479b-9ab3-1413ade44d53",
   "metadata": {},
   "outputs": [],
   "source": [
    "# %load tcp-client.py\n",
    "import socket\n",
    "\n",
    "sock = socket.socket(socket.AF_INET, socket.SOCK_STREAM)\n",
    "sock.connect(('localhost', 65433))\n",
    "sock.sendall(b'hey')"
   ]
  },
  {
   "cell_type": "markdown",
   "id": "21592d88-11b0-4e5e-b48a-8aec39f36516",
   "metadata": {},
   "source": [
    "## TCP server"
   ]
  },
  {
   "cell_type": "code",
   "execution_count": 58,
   "id": "77f0332c-a243-4185-ab38-788ffe109ad1",
   "metadata": {},
   "outputs": [],
   "source": [
    "# %load tcp-server.py\n",
    "import socket\n",
    "\n",
    "sock = socket.socket(socket.AF_INET, socket.SOCK_STREAM)\n",
    "sock.bind(('127.0.0.1', 65433))\n",
    "sock.listen()\n",
    "\n",
    "while True:\n",
    "    conn, addr = sock.accept()\n",
    "    data = conn.recv(1024)\n",
    "    if not data:\n",
    "        break\n",
    "    else:\n",
    "        print(f'Got {data} from {addr}')"
   ]
  },
  {
   "cell_type": "code",
   "execution_count": null,
   "id": "71026751-b367-48ad-a6fc-6a1a5f258527",
   "metadata": {},
   "outputs": [],
   "source": []
  }
 ],
 "metadata": {
  "kernelspec": {
   "display_name": "Python 3 (ipykernel)",
   "language": "python",
   "name": "python3"
  },
  "language_info": {
   "codemirror_mode": {
    "name": "ipython",
    "version": 3
   },
   "file_extension": ".py",
   "mimetype": "text/x-python",
   "name": "python",
   "nbconvert_exporter": "python",
   "pygments_lexer": "ipython3",
   "version": "3.8.9"
  }
 },
 "nbformat": 4,
 "nbformat_minor": 5
}
